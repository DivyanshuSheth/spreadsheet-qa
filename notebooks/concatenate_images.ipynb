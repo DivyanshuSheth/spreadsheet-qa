{
 "cells": [
  {
   "cell_type": "code",
   "execution_count": 1,
   "metadata": {},
   "outputs": [
    {
     "data": {
      "text/plain": [
       "'/home/dasheth/ema/spreadsheet-qa/data/gold-imgs/sheet1.png'"
      ]
     },
     "execution_count": 1,
     "metadata": {},
     "output_type": "execute_result"
    }
   ],
   "source": [
    "from PIL import Image\n",
    "\n",
    "def concatenate_images_vertically(img_path1, img_path2, save_path):\n",
    "    # Load images\n",
    "    image1 = Image.open(img_path1)\n",
    "    image2 = Image.open(img_path2)\n",
    "\n",
    "    # Get dimensions\n",
    "    width1, height1 = image1.size\n",
    "    width2, height2 = image2.size\n",
    "\n",
    "    # Create a new image with combined height and maximum width\n",
    "    new_image = Image.new(\"RGB\", (max(width1, width2), height1 + height2))\n",
    "\n",
    "    # Paste the images onto the new image\n",
    "    new_image.paste(image1, (0, 0))\n",
    "    new_image.paste(image2, (0, height1))\n",
    "\n",
    "    # Save the concatenated image\n",
    "    new_image.save(save_path)\n",
    "    return save_path\n",
    "\n",
    "img_path1 = \"/home/dasheth/ema/spreadsheet-qa/data/gold-imgs/sheet1-page1.png\"\n",
    "img_path2 = \"/home/dasheth/ema/spreadsheet-qa/data/gold-imgs/sheet1-page2.png\"\n",
    "concatenate_images_vertically(img_path1, img_path2, \"/home/dasheth/ema/spreadsheet-qa/data/gold-imgs/sheet1.png\")\n"
   ]
  },
  {
   "cell_type": "code",
   "execution_count": null,
   "metadata": {},
   "outputs": [],
   "source": []
  }
 ],
 "metadata": {
  "kernelspec": {
   "display_name": "ema",
   "language": "python",
   "name": "python3"
  },
  "language_info": {
   "codemirror_mode": {
    "name": "ipython",
    "version": 3
   },
   "file_extension": ".py",
   "mimetype": "text/x-python",
   "name": "python",
   "nbconvert_exporter": "python",
   "pygments_lexer": "ipython3",
   "version": "3.10.14"
  }
 },
 "nbformat": 4,
 "nbformat_minor": 2
}
