{
 "cells": [
  {
   "cell_type": "code",
   "execution_count": 3,
   "metadata": {},
   "outputs": [
    {
     "name": "stderr",
     "output_type": "stream",
     "text": [
      "/home/dasheth/miniconda3/envs/ema/lib/python3.10/site-packages/openpyxl/worksheet/_reader.py:329: UserWarning: Unknown extension is not supported and will be removed\n",
      "  warn(msg)\n"
     ]
    }
   ],
   "source": [
    "import pandas as pd\n",
    "\n",
    "# Load the Excel file\n",
    "excel_file = '/home/dasheth/ema/spreadsheet-qa/data/Capitalization Table - Series A Example.xlsx'\n",
    "\n",
    "# Read the first sheet into a DataFrame\n",
    "df = pd.read_excel(excel_file, sheet_name=0)\n",
    "\n",
    "# # Save the DataFrame as an HTML file\n",
    "# html_file = '/home/dasheth/ema/spreadsheet-qa/data/xlsx-to-html/sheet.html'\n",
    "# df.to_html(html_file)"
   ]
  },
  {
   "cell_type": "code",
   "execution_count": null,
   "metadata": {},
   "outputs": [],
   "source": [
    "from win32com import client\n",
    "\n",
    "# Open Microsoft Excel\n",
    "excel = client.Dispatch(\"Excel.Application\")\n",
    "\n",
    "# Read Excel File\n",
    "sheets = excel.Workbooks.Open(excel_file)\n",
    "\n",
    "pdf_path = \"/home/dasheth/ema/spreadsheet-qa/data/xlsx-to-pdf/sheet.pdf\"\n",
    "# Convert into PDF File\n",
    "sheets.ExportAsFixedFormat(0, pdf_path)\n",
    "\n",
    "# Close the workbook and quit the application\n",
    "sheets.Close(False)\n",
    "excel.Quit()"
   ]
  },
  {
   "cell_type": "code",
   "execution_count": 1,
   "metadata": {},
   "outputs": [],
   "source": [
    "import jpype\n",
    "import asposecells\n",
    "jpype.startJVM()\n",
    "from asposecells.api import Workbook, SaveFormat\n",
    "\n",
    "excel_file = '/home/dasheth/ema/spreadsheet-qa/data/Capitalization Table - Series A Example.xlsx'\n",
    "pdf_path = \"/home/dasheth/ema/spreadsheet-qa/data/xlsx-to-pdf/sheet.pdf\"\n",
    "\n",
    "# Load Excel file\n",
    "workbook = Workbook(excel_file)\n",
    "\n",
    "# Save as PDF\n",
    "workbook.save(pdf_path, SaveFormat.PDF)"
   ]
  },
  {
   "cell_type": "code",
   "execution_count": 4,
   "metadata": {},
   "outputs": [],
   "source": [
    "from pdf2image import convert_from_path\n",
    "\n",
    "# Convert PDF to images\n",
    "images = convert_from_path(pdf_path)\n",
    "\n",
    "# Save each page as an image file\n",
    "for i, image in enumerate(images):\n",
    "    image.save(f'/home/dasheth/ema/spreadsheet-qa/data/pdf-to-png/page_{i}.png')"
   ]
  },
  {
   "cell_type": "code",
   "execution_count": null,
   "metadata": {},
   "outputs": [],
   "source": []
  }
 ],
 "metadata": {
  "kernelspec": {
   "display_name": "ema",
   "language": "python",
   "name": "python3"
  },
  "language_info": {
   "codemirror_mode": {
    "name": "ipython",
    "version": 3
   },
   "file_extension": ".py",
   "mimetype": "text/x-python",
   "name": "python",
   "nbconvert_exporter": "python",
   "pygments_lexer": "ipython3",
   "version": "3.10.14"
  }
 },
 "nbformat": 4,
 "nbformat_minor": 2
}
