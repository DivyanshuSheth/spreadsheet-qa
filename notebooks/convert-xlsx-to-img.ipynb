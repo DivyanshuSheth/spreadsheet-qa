{
 "cells": [
  {
   "cell_type": "code",
   "execution_count": 2,
   "metadata": {},
   "outputs": [
    {
     "name": "stderr",
     "output_type": "stream",
     "text": [
      "/home/dasheth/miniconda3/envs/ema/lib/python3.10/site-packages/openpyxl/worksheet/_reader.py:329: UserWarning: Unknown extension is not supported and will be removed\n",
      "  warn(msg)\n"
     ]
    }
   ],
   "source": [
    "import pandas as pd\n",
    "import jpype\n",
    "import asposecells\n",
    "jpype.startJVM()\n",
    "from asposecells.api import Workbook, SaveFormat\n",
    "from pdf2image import convert_from_path\n",
    "\n",
    "# File paths\n",
    "excel_file = '/home/dasheth/ema/spreadsheet-qa/data/Capitalization Table - Series A Example.xlsx'\n",
    "pdf_path = \"/home/dasheth/ema/spreadsheet-qa/data/xlsx-to-pdf/sheet.pdf\"\n",
    "image_output_path = '/home/dasheth/ema/spreadsheet-qa/data/pdf-to-png/'\n",
    "\n",
    "# Step 1: Read Excel file into a Pandas DataFrame\n",
    "df = pd.read_excel(excel_file, sheet_name=0)\n",
    "\n",
    "# Step 2: Convert Pandas DataFrame to PDF using Aspose.Cells\n",
    "\n",
    "workbook = Workbook(excel_file)\n",
    "workbook.save(pdf_path, SaveFormat.PDF)\n",
    "\n",
    "# Step 3: Convert PDF to images using pdf2image\n",
    "images = convert_from_path(pdf_path)\n",
    "\n",
    "# Save each page as an image file\n",
    "for i, image in enumerate(images):\n",
    "    image.save(f'{image_output_path}page_{i}.png')"
   ]
  },
  {
   "cell_type": "code",
   "execution_count": null,
   "metadata": {},
   "outputs": [],
   "source": []
  }
 ],
 "metadata": {
  "kernelspec": {
   "display_name": "ema",
   "language": "python",
   "name": "python3"
  },
  "language_info": {
   "codemirror_mode": {
    "name": "ipython",
    "version": 3
   },
   "file_extension": ".py",
   "mimetype": "text/x-python",
   "name": "python",
   "nbconvert_exporter": "python",
   "pygments_lexer": "ipython3",
   "version": "3.10.14"
  }
 },
 "nbformat": 4,
 "nbformat_minor": 2
}
